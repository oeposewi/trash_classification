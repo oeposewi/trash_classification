{
 "cells": [
  {
   "cell_type": "code",
   "execution_count": 1,
   "metadata": {},
   "outputs": [],
   "source": [
    "import io\n",
    "import socket\n",
    "import struct\n",
    "from PIL import Image\n",
    "import matplotlib.pyplot as pl"
   ]
  },
  {
   "cell_type": "code",
   "execution_count": 4,
   "metadata": {},
   "outputs": [
    {
     "ename": "OSError",
     "evalue": "[Errno 99] Cannot assign requested address",
     "output_type": "error",
     "traceback": [
      "\u001b[0;31m---------------------------------------------------------------------------\u001b[0m",
      "\u001b[0;31mOSError\u001b[0m                                   Traceback (most recent call last)",
      "Input \u001b[0;32mIn [4]\u001b[0m, in \u001b[0;36m<module>\u001b[0;34m\u001b[0m\n\u001b[1;32m      1\u001b[0m server_socket \u001b[38;5;241m=\u001b[39m socket\u001b[38;5;241m.\u001b[39msocket()\n\u001b[0;32m----> 2\u001b[0m \u001b[43mserver_socket\u001b[49m\u001b[38;5;241;43m.\u001b[39;49m\u001b[43mbind\u001b[49m\u001b[43m(\u001b[49m\u001b[43m(\u001b[49m\u001b[38;5;124;43m'\u001b[39;49m\u001b[38;5;124;43m192.168.0.28\u001b[39;49m\u001b[38;5;124;43m'\u001b[39;49m\u001b[43m,\u001b[49m\u001b[43m \u001b[49m\u001b[38;5;241;43m8000\u001b[39;49m\u001b[43m)\u001b[49m\u001b[43m)\u001b[49m  \u001b[38;5;66;03m# ADD IP HERE\u001b[39;00m\n\u001b[1;32m      3\u001b[0m server_socket\u001b[38;5;241m.\u001b[39mlisten(\u001b[38;5;241m0\u001b[39m)\n",
      "\u001b[0;31mOSError\u001b[0m: [Errno 99] Cannot assign requested address"
     ]
    }
   ],
   "source": [
    "server_socket = socket.socket()\n",
    "server_socket.bind(('192.168.0.28', 8000))  # ADD IP HERE\n",
    "server_socket.listen(0)"
   ]
  },
  {
   "cell_type": "code",
   "execution_count": null,
   "metadata": {},
   "outputs": [],
   "source": [
    "# Accept a single connection and make a file-like object out of it\n",
    "connection = server_socket.accept()[0].makefile('rb')\n",
    "try:\n",
    "    img = None\n",
    "    while True:\n",
    "        # Read the length of the image as a 32-bit unsigned int. If the\n",
    "        # length is zero, quit the loop\n",
    "        image_len = struct.unpack('<L', connection.read(struct.calcsize('<L')))[0]\n",
    "        if not image_len:\n",
    "            break\n",
    "        # Construct a stream to hold the image data and read the image\n",
    "        # data from the connection\n",
    "        image_stream = io.BytesIO()\n",
    "        image_stream.write(connection.read(image_len))\n",
    "        # Rewind the stream, open it as an image with PIL and do some\n",
    "        # processing on it\n",
    "        image_stream.seek(0)\n",
    "        image = Image.open(image_stream)\n",
    "        \n",
    "        if img is None:\n",
    "            img = pl.imshow(image)\n",
    "        else:\n",
    "            img.set_data(image)\n",
    "\n",
    "        pl.pause(0.01)\n",
    "        pl.draw()\n",
    "\n",
    "        print('Image is %dx%d' % image.size)\n",
    "        image.verify()\n",
    "        print('Image is verified')\n",
    "finally:\n",
    "    connection.close()\n",
    "    server_socket.close()"
   ]
  }
 ],
 "metadata": {
  "kernelspec": {
   "display_name": "Python 3",
   "language": "python",
   "name": "python3"
  },
  "language_info": {
   "codemirror_mode": {
    "name": "ipython",
    "version": 3
   },
   "file_extension": ".py",
   "mimetype": "text/x-python",
   "name": "python",
   "nbconvert_exporter": "python",
   "pygments_lexer": "ipython3",
   "version": "3.8.10"
  }
 },
 "nbformat": 4,
 "nbformat_minor": 2
}
